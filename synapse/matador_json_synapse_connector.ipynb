{
  "description": null,
  "sessionProperties": {
    "driverMemory": "28g",
    "driverCores": 4,
    "executorMemory": "28g",
    "executorCores": 4,
    "numExecutors": 2
  },
  "metadata": {
    "kernelspec": {
      "name": "synapse_pyspark",
      "display_name": "Synapse PySpark"
    },
    "language_info": {
      "name": "python",
      "codemirror_mode": null
    },
    "a365ComputeOptions": {
      "id": "/subscriptions/8ff0a903-0806-4868-aafa-275d91420548/resourceGroups/au/providers/Microsoft.Synapse/workspaces/synpase20220517/bigDataPools/mysparkpool",
      "name": "mysparkpool",
      "type": "Spark",
      "endpoint": "https://synpase20220517.dev.azuresynapse.net/livyApi/versions/2019-11-01-preview/sparkPools/mysparkpool",
      "auth": {
        "type": "AAD",
        "authResource": "https://dev.azuresynapse.net"
      },
      "sparkVersion": "3.1",
      "nodeCount": 10,
      "cores": 4,
      "memory": 28,
      "extraHeader": null
    },
    "sessionKeepAliveTimeout": 30,
    "saveOutput": true,
    "synapse_widget": {
      "version": "0.1",
      "state": {
        "5a8f3415-8838-4cd1-a526-ce666488be27": {
          "type": "Synapse.DataFrame",
          "sync_state": {
            "table": {
              "rows": [
                {
                  "0": {
                    "city": "Korsbæk",
                    "county": "Sjælland",
                    "state": "DK",
                    "streetname": "Algade"
                  },
                  "1": [
                    {
                      "firstName": "Ulrik",
                      "gender": "male",
                      "grade": 5
                    },
                    {
                      "firstName": "Regitze",
                      "gender": "female",
                      "grade": 3,
                      "pets": [
                        {
                          "givenName": "Vaks",
                          "race": "gadekryds",
                          "type": "hund"
                        }
                      ]
                    }
                  ],
                  "2": "20210107",
                  "3": "Varnæsfamilien",
                  "4": "true",
                  "5": "Varnæs",
                  "6": [
                    {
                      "actor": "Holger Juul Hansen",
                      "firstName": "Hans Christian",
                      "gender": "male"
                    },
                    {
                      "actor": "Malene Schwartz",
                      "firstName": "Maude",
                      "gender": "female"
                    }
                  ]
                },
                {
                  "0": {
                    "city": "Korsbæk",
                    "county": "Sjælland",
                    "state": "DK",
                    "streetname": "Algade"
                  },
                  "1": [
                    {
                      "firstName": "Ellen",
                      "gender": "female",
                      "grade": 5,
                      "pets": [
                        {
                          "givenName": "Ukendt",
                          "race": "islænder",
                          "type": "hest"
                        }
                      ]
                    },
                    {
                      "firstName": "Daniel",
                      "gender": "male",
                      "grade": 3,
                      "pets": [
                        {
                          "givenName": "ukendt",
                          "race": "gadekryds",
                          "type": "pony"
                        }
                      ]
                    },
                    {
                      "firstName": "Erik",
                      "futuredream": "Astronaut",
                      "gender": "male",
                      "grade": 5
                    }
                  ],
                  "2": "20210107",
                  "3": "Skjernfamilien",
                  "4": "true",
                  "5": "Andersen-Skjern",
                  "6": [
                    {
                      "firstName": "Mads",
                      "gender": "male",
                      "skuespiller": "Jørgen Buckhøj"
                    },
                    {
                      "firstName": "Ingeborg",
                      "gender": "female",
                      "skuespiller": "Ghita Nørby"
                    }
                  ]
                }
              ],
              "schema": [
                {
                  "key": "0",
                  "name": "address",
                  "type": "StructType(StructField(city,StringType,true), StructField(county,StringType,true), StructField(state,StringType,true), StructField(streetname,StringType,true))"
                },
                {
                  "key": "1",
                  "name": "children",
                  "type": "ArrayType(StructType(StructField(firstName,StringType,true), StructField(futuredream,StringType,true), StructField(gender,StringType,true), StructField(grade,LongType,true), StructField(pets,ArrayType(StructType(StructField(givenName,StringType,true), StructField(race,StringType,true), StructField(type,StringType,true)),true),true)),true)"
                },
                {
                  "key": "2",
                  "name": "creationDate",
                  "type": "bigint"
                },
                {
                  "key": "3",
                  "name": "id",
                  "type": "string"
                },
                {
                  "key": "4",
                  "name": "isRegistered",
                  "type": "boolean"
                },
                {
                  "key": "5",
                  "name": "lastName",
                  "type": "string"
                },
                {
                  "key": "6",
                  "name": "parents",
                  "type": "ArrayType(StructType(StructField(actor,StringType,true), StructField(firstName,StringType,true), StructField(gender,StringType,true), StructField(skuespiller,StringType,true)),true)"
                }
              ],
              "truncated": false
            },
            "isSummary": false,
            "language": "scala"
          },
          "persist_state": {
            "view": {
              "type": "details",
              "tableOptions": {},
              "chartOptions": {
                "chartType": "bar",
                "aggregationType": "sum",
                "categoryFieldKeys": [
                  "3"
                ],
                "seriesFieldKeys": [
                  "2"
                ],
                "isStacked": false
              }
            }
          }
        },
        "cba01a88-6693-4bd7-947a-d4fc4528ef67": {
          "type": "Synapse.DataFrame",
          "sync_state": {
            "table": {
              "rows": [
                {
                  "0": "1984",
                  "1": "2022-05-16T10:59:33",
                  "2": "42.89524841308594",
                  "3": "0",
                  "4": "23.737098693847656",
                  "5": "0"
                },
                {
                  "0": "1984",
                  "1": "2022-05-16T10:59:36",
                  "2": "42.78258514404297",
                  "3": "41.34583282470703",
                  "4": "23.54663848876953",
                  "5": "1020.17431640625"
                },
                {
                  "0": "1984",
                  "1": "2022-05-16T10:59:38",
                  "2": "42.83891677856445",
                  "3": "41.34166717529297",
                  "4": "22.99747657775879",
                  "5": "1020.198486328125"
                },
                {
                  "0": "1984",
                  "1": "2022-05-16T10:59:40",
                  "2": "42.857696533203125",
                  "3": "41.358333587646484",
                  "4": "23.5371150970459",
                  "5": "1020.19091796875"
                },
                {
                  "0": "1984",
                  "1": "2022-05-16T10:59:42",
                  "2": "42.89524841308594",
                  "3": "41.36666488647461",
                  "4": "23.778364181518555",
                  "5": "1020.19189453125"
                },
                {
                  "0": "1984",
                  "1": "2022-05-16T10:59:44",
                  "2": "42.93280792236328",
                  "3": "41.381248474121094",
                  "4": "23.46092987060547",
                  "5": "1020.17724609375"
                },
                {
                  "0": "1984",
                  "1": "2022-05-16T10:59:46",
                  "2": "42.87647247314453",
                  "3": "41.391666412353516",
                  "4": "23.705354690551758",
                  "5": "1020.17822265625"
                },
                {
                  "0": "1984",
                  "1": "2022-05-16T10:59:48",
                  "2": "42.87647247314453",
                  "3": "41.39583206176758",
                  "4": "23.387920379638672",
                  "5": "1020.180419921875"
                },
                {
                  "0": "1984",
                  "1": "2022-05-16T10:59:50",
                  "2": "42.970359802246094",
                  "3": "41.400001525878906",
                  "4": "23.441884994506836",
                  "5": "1020.193115234375"
                },
                {
                  "0": "1984",
                  "1": "2022-05-16T10:59:52",
                  "2": "42.857696533203125",
                  "3": "41.412498474121094",
                  "4": "23.562509536743164",
                  "5": "1020.18115234375"
                }
              ],
              "schema": [
                {
                  "key": "0",
                  "name": "sensorid",
                  "type": "string"
                },
                {
                  "key": "1",
                  "name": "timestamp",
                  "type": "string"
                },
                {
                  "key": "2",
                  "name": "temperature_from_humidity",
                  "type": "string"
                },
                {
                  "key": "3",
                  "name": "temperature_from_pressure",
                  "type": "string"
                },
                {
                  "key": "4",
                  "name": "humidity",
                  "type": "string"
                },
                {
                  "key": "5",
                  "name": "pressure",
                  "type": "string"
                }
              ],
              "truncated": false
            },
            "isSummary": false,
            "language": "scala"
          },
          "persist_state": {
            "view": {
              "type": "details",
              "tableOptions": {},
              "chartOptions": {
                "chartType": "bar",
                "aggregationType": "count",
                "categoryFieldKeys": [
                  "0"
                ],
                "seriesFieldKeys": [
                  "0"
                ],
                "isStacked": false
              }
            }
          }
        }
      }
    },
    "enableDebugMode": false
  },
  "nbformat": 4,
  "nbformat_minor": 2,
  "cells": [
    {
      "cell_type": "code",
      "metadata": {
        "microsoft": {
          "language": "python"
        },
        "collapsed": false
      },
      "source": [
        "%%pyspark\r\n",
        "df = spark.read.load('abfss://raspdata@datalakesu20220516.dfs.core.windows.net/sensor=1984/year=2022/month=05/data2022_05_16_10_59_33.csv', format='csv'\r\n",
        "## If header exists uncomment line below\r\n",
        ", header=True\r\n",
        ")\r\n",
        "display(df.limit(10))"
      ],
      "attachments": null,
      "outputs": [
        {
          "name": null,
          "execution_count": null,
          "output_type": "display_data",
          "text": null,
          "data": {
            "application/vnd.livy.statement-meta+json": {
              "spark_pool": null,
              "session_id": null,
              "statement_id": null,
              "state": "session_starting",
              "livy_statement_state": null,
              "queued_time": "2022-05-17T12:59:32.8393663Z",
              "session_start_time": "2022-05-17T12:59:32.880592Z",
              "execution_start_time": null,
              "execution_finish_time": null
            },
            "text/plain": "StatementMeta(, , , SessionStarting, )"
          },
          "metadata": {}
        },
        {
          "name": null,
          "execution_count": null,
          "output_type": "display_data",
          "text": null,
          "data": {
            "application/vnd.synapse.widget-view+json": {
              "widget_id": "cba01a88-6693-4bd7-947a-d4fc4528ef67",
              "widget_type": "Synapse.DataFrame"
            },
            "text/plain": "SynapseWidget(Synapse.DataFrame, cba01a88-6693-4bd7-947a-d4fc4528ef67)"
          },
          "metadata": {}
        }
      ],
      "execution_count": 17
    },
    {
      "cell_type": "code",
      "metadata": {
        "jupyter": {
          "source_hidden": false,
          "outputs_hidden": false
        },
        "nteract": {
          "transient": {
            "deleting": false
          }
        }
      },
      "source": [
        "df.createOrReplaceTempView('mytempTable')"
      ],
      "attachments": null,
      "outputs": [],
      "execution_count": null
    },
    {
      "cell_type": "code",
      "metadata": {
        "jupyter": {
          "source_hidden": false,
          "outputs_hidden": false
        },
        "nteract": {
          "transient": {
            "deleting": false
          }
        },
        "microsoft": {
          "language": "sparksql"
        }
      },
      "source": [
        "%%sql\r\n",
        "SELECT *\r\n",
        "FROM mytempTable"
      ],
      "attachments": null,
      "outputs": [],
      "execution_count": null
    },
    {
      "cell_type": "code",
      "metadata": {
        "jupyter": {
          "source_hidden": false,
          "outputs_hidden": false
        },
        "nteract": {
          "transient": {
            "deleting": false
          }
        }
      },
      "source": [
        "spark.sql('')"
      ],
      "attachments": null,
      "outputs": [],
      "execution_count": null
    },
    {
      "cell_type": "code",
      "metadata": {
        "jupyter": {
          "source_hidden": false,
          "outputs_hidden": false
        },
        "nteract": {
          "transient": {
            "deleting": false
          }
        },
        "microsoft": {},
        "collapsed": false
      },
      "source": [
        "df = spark.read.load('abfss://matador@asadatalake2prbthc.dfs.core.windows.net/*.json', format='json',multiline=True)\r\n",
        "display(df.limit(10))"
      ],
      "attachments": null,
      "outputs": [
        {
          "name": null,
          "execution_count": null,
          "output_type": "display_data",
          "text": null,
          "data": {
            "application/vnd.livy.statement-meta+json": {
              "spark_pool": "mysparkpool",
              "session_id": 2,
              "statement_id": 6,
              "state": "finished",
              "livy_statement_state": "available",
              "queued_time": "2022-05-17T11:22:53.0530218Z",
              "session_start_time": null,
              "execution_start_time": "2022-05-17T11:22:53.179208Z",
              "execution_finish_time": "2022-05-17T11:23:00.0283837Z"
            },
            "text/plain": "StatementMeta(mysparkpool, 2, 6, Finished, Available)"
          },
          "metadata": {}
        },
        {
          "name": null,
          "execution_count": null,
          "output_type": "display_data",
          "text": null,
          "data": {
            "application/vnd.synapse.widget-view+json": {
              "widget_id": "5a8f3415-8838-4cd1-a526-ce666488be27",
              "widget_type": "Synapse.DataFrame"
            },
            "text/plain": "SynapseWidget(Synapse.DataFrame, 5a8f3415-8838-4cd1-a526-ce666488be27)"
          },
          "metadata": {}
        }
      ],
      "execution_count": 5
    },
    {
      "cell_type": "code",
      "metadata": {
        "jupyter": {
          "source_hidden": false,
          "outputs_hidden": false
        },
        "nteract": {
          "transient": {
            "deleting": false
          }
        }
      },
      "source": [
        "from pyspark.sql.functions import explode\r\n",
        "childrenDF=df.select('lastName',explode('children').alias('childrenflat'))\r\n",
        "childrenDF.show()"
      ],
      "attachments": null,
      "outputs": [
        {
          "name": null,
          "execution_count": null,
          "output_type": "display_data",
          "text": null,
          "data": {
            "application/vnd.livy.statement-meta+json": {
              "spark_pool": "mysparkpool",
              "session_id": 2,
              "statement_id": 7,
              "state": "finished",
              "livy_statement_state": "available",
              "queued_time": "2022-05-17T11:23:28.1863356Z",
              "session_start_time": null,
              "execution_start_time": "2022-05-17T11:23:28.3035873Z",
              "execution_finish_time": "2022-05-17T11:23:31.1032221Z"
            },
            "text/plain": "StatementMeta(mysparkpool, 2, 7, Finished, Available)"
          },
          "metadata": {}
        },
        {
          "name": "stdout",
          "execution_count": null,
          "output_type": "stream",
          "text": "+---------------+--------------------+\n|       lastName|        childrenflat|\n+---------------+--------------------+\n|Andersen-Skjern|{Ellen, null, fem...|\n|Andersen-Skjern|{Daniel, null, ma...|\n|Andersen-Skjern|{Erik, Astronaut,...|\n|         Varnæs|{Ulrik, null, mal...|\n|         Varnæs|{Regitze, null, f...|\n+---------------+--------------------+",
          "data": null,
          "metadata": null
        }
      ],
      "execution_count": 6
    },
    {
      "cell_type": "code",
      "metadata": {
        "jupyter": {
          "source_hidden": false,
          "outputs_hidden": false
        },
        "nteract": {
          "transient": {
            "deleting": false
          }
        }
      },
      "source": [
        "newDF=childrenDF.select('lastName', 'childrenflat.firstName','childrenflat.gender','childrenflat.grade')\r\n",
        "newDF.show()\r\n",
        ""
      ],
      "attachments": null,
      "outputs": [
        {
          "name": null,
          "execution_count": null,
          "output_type": "display_data",
          "text": null,
          "data": {
            "application/vnd.livy.statement-meta+json": {
              "spark_pool": "mysparkpool",
              "session_id": 2,
              "statement_id": 8,
              "state": "finished",
              "livy_statement_state": "available",
              "queued_time": "2022-05-17T11:24:02.2042436Z",
              "session_start_time": null,
              "execution_start_time": "2022-05-17T11:24:02.3096812Z",
              "execution_finish_time": "2022-05-17T11:24:05.1423146Z"
            },
            "text/plain": "StatementMeta(mysparkpool, 2, 8, Finished, Available)"
          },
          "metadata": {}
        },
        {
          "name": "stdout",
          "execution_count": null,
          "output_type": "stream",
          "text": "+---------------+---------+------+-----+\n|       lastName|firstName|gender|grade|\n+---------------+---------+------+-----+\n|Andersen-Skjern|    Ellen|female|    5|\n|Andersen-Skjern|   Daniel|  male|    3|\n|Andersen-Skjern|     Erik|  male|    5|\n|         Varnæs|    Ulrik|  male|    5|\n|         Varnæs|  Regitze|female|    3|\n+---------------+---------+------+-----+",
          "data": null,
          "metadata": null
        }
      ],
      "execution_count": 7
    },
    {
      "cell_type": "code",
      "metadata": {
        "jupyter": {
          "source_hidden": false,
          "outputs_hidden": false
        },
        "nteract": {
          "transient": {
            "deleting": false
          }
        },
        "microsoft": {
          "language": "sparksql"
        },
        "collapsed": false
      },
      "source": [
        "%%sql\r\n",
        "CREATE DATABASE synapsesparkDB"
      ],
      "attachments": null,
      "outputs": [
        {
          "name": null,
          "execution_count": null,
          "output_type": "display_data",
          "text": null,
          "data": {
            "application/vnd.livy.statement-meta+json": {
              "spark_pool": "mysparkpool",
              "session_id": 2,
              "statement_id": 9,
              "state": "finished",
              "livy_statement_state": "available",
              "queued_time": "2022-05-17T11:24:43.6628958Z",
              "session_start_time": null,
              "execution_start_time": "2022-05-17T11:24:43.7750446Z",
              "execution_finish_time": "2022-05-17T11:24:56.4938996Z"
            },
            "text/plain": "StatementMeta(mysparkpool, 2, 9, Finished, Available)"
          },
          "metadata": {}
        },
        {
          "name": null,
          "execution_count": 8,
          "output_type": "execute_result",
          "text": null,
          "data": {
            "application/vnd.synapse.sparksql-result+json": {
              "schema": {
                "type": "struct",
                "fields": []
              },
              "data": []
            },
            "text/plain": "<Spark SQL result set with 0 rows and 0 fields>"
          },
          "metadata": {}
        }
      ],
      "execution_count": 8
    },
    {
      "cell_type": "code",
      "metadata": {
        "jupyter": {
          "source_hidden": false,
          "outputs_hidden": false
        },
        "nteract": {
          "transient": {
            "deleting": false
          }
        }
      },
      "source": [
        "newDF.write.format(\"parquet\").saveAsTable('synapsesparkdb.matadorChildren')"
      ],
      "attachments": null,
      "outputs": [
        {
          "name": null,
          "execution_count": null,
          "output_type": "display_data",
          "text": null,
          "data": {
            "application/vnd.livy.statement-meta+json": {
              "spark_pool": "mysparkpool",
              "session_id": 2,
              "statement_id": 11,
              "state": "finished",
              "livy_statement_state": "available",
              "queued_time": "2022-05-17T11:27:06.9961771Z",
              "session_start_time": null,
              "execution_start_time": "2022-05-17T11:27:07.1509327Z",
              "execution_finish_time": "2022-05-17T11:27:19.7998886Z"
            },
            "text/plain": "StatementMeta(mysparkpool, 2, 11, Finished, Available)"
          },
          "metadata": {}
        }
      ],
      "execution_count": 9
    },
    {
      "cell_type": "code",
      "metadata": {
        "jupyter": {
          "source_hidden": false,
          "outputs_hidden": false
        },
        "nteract": {
          "transient": {
            "deleting": false
          }
        },
        "microsoft": {
          "language": "sparksql"
        },
        "collapsed": false
      },
      "source": [
        "%%sql\r\n",
        "SELECT * FROM synapsesparkdb.matadorChildren"
      ],
      "attachments": null,
      "outputs": [
        {
          "name": null,
          "execution_count": null,
          "output_type": "display_data",
          "text": null,
          "data": {
            "application/vnd.livy.statement-meta+json": {
              "spark_pool": "mysparkpool",
              "session_id": 2,
              "statement_id": 13,
              "state": "finished",
              "livy_statement_state": "available",
              "queued_time": "2022-05-17T11:43:20.4452964Z",
              "session_start_time": null,
              "execution_start_time": "2022-05-17T11:43:20.6879839Z",
              "execution_finish_time": "2022-05-17T11:43:26.0037072Z"
            },
            "text/plain": "StatementMeta(mysparkpool, 2, 13, Finished, Available)"
          },
          "metadata": {}
        },
        {
          "name": null,
          "execution_count": 11,
          "output_type": "execute_result",
          "text": null,
          "data": {
            "application/vnd.synapse.sparksql-result+json": {
              "schema": {
                "type": "struct",
                "fields": [
                  {
                    "name": "lastName",
                    "type": "string",
                    "nullable": true,
                    "metadata": {}
                  },
                  {
                    "name": "firstName",
                    "type": "string",
                    "nullable": true,
                    "metadata": {}
                  },
                  {
                    "name": "gender",
                    "type": "string",
                    "nullable": true,
                    "metadata": {}
                  },
                  {
                    "name": "grade",
                    "type": "long",
                    "nullable": true,
                    "metadata": {}
                  }
                ]
              },
              "data": [
                [
                  "Andersen-Skjern",
                  "Ellen",
                  "female",
                  "5"
                ],
                [
                  "Andersen-Skjern",
                  "Daniel",
                  "male",
                  "3"
                ],
                [
                  "Andersen-Skjern",
                  "Erik",
                  "male",
                  "5"
                ],
                [
                  "Varnæs",
                  "Ulrik",
                  "male",
                  "5"
                ],
                [
                  "Varnæs",
                  "Regitze",
                  "female",
                  "3"
                ]
              ]
            },
            "text/plain": "<Spark SQL result set with 5 rows and 4 fields>"
          },
          "metadata": {}
        }
      ],
      "execution_count": 11
    },
    {
      "cell_type": "code",
      "metadata": {
        "jupyter": {
          "source_hidden": false,
          "outputs_hidden": false
        },
        "nteract": {
          "transient": {
            "deleting": false
          }
        },
        "microsoft": {
          "language": "scala"
        }
      },
      "source": [
        "%%spark\r\n",
        "// VI ER I SCALA - den \r\n",
        "// Vi indlæser via Scala\r\n",
        "val dfScala = spark.sql(\"SELECT * FROM synapsesparkdb.matadorchildren\")\r\n",
        "dfScala.show()\r\n",
        ""
      ],
      "attachments": null,
      "outputs": [
        {
          "name": null,
          "execution_count": null,
          "output_type": "display_data",
          "text": null,
          "data": {
            "application/vnd.livy.statement-meta+json": {
              "spark_pool": "mysparkpool",
              "session_id": 2,
              "statement_id": 16,
              "state": "finished",
              "livy_statement_state": "available",
              "queued_time": "2022-05-17T11:44:27.1742286Z",
              "session_start_time": null,
              "execution_start_time": "2022-05-17T11:44:27.2839792Z",
              "execution_finish_time": "2022-05-17T11:44:32.5535006Z"
            },
            "text/plain": "StatementMeta(mysparkpool, 2, 16, Finished, Available)"
          },
          "metadata": {}
        },
        {
          "name": "stdout",
          "execution_count": null,
          "output_type": "stream",
          "text": "+---------------+---------+------+-----+\n|       lastName|firstName|gender|grade|\n+---------------+---------+------+-----+\n|Andersen-Skjern|    Ellen|female|    5|\n|Andersen-Skjern|   Daniel|  male|    3|\n|Andersen-Skjern|     Erik|  male|    5|\n|         Varnæs|    Ulrik|  male|    5|\n|         Varnæs|  Regitze|female|    3|\n+---------------+---------+------+-----+\n\ndfScala: org.apache.spark.sql.DataFrame = [lastName: string, firstName: string ... 2 more fields]\n",
          "data": null,
          "metadata": null
        }
      ],
      "execution_count": 13
    },
    {
      "cell_type": "code",
      "metadata": {
        "jupyter": {
          "source_hidden": false,
          "outputs_hidden": false
        },
        "nteract": {
          "transient": {
            "deleting": false
          }
        },
        "microsoft": {
          "language": "scala"
        }
      },
      "source": [
        "%%spark\r\n",
        "// Write the dataframe into your sql pool\r\n",
        "import org.apache.spark.sql.SqlAnalyticsConnector._\r\n",
        "import com.microsoft.spark.sqlanalytics.utils.Constants\r\n",
        "\r\n",
        "val sql_pool_name = \"SQLPool01\" \r\n",
        "\r\n",
        "dfScala.write.sqlanalytics(s\"$sql_pool_name.dbo.MatadorChildren\", Constants.INTERNAL)\r\n",
        ""
      ],
      "attachments": null,
      "outputs": [
        {
          "name": null,
          "execution_count": null,
          "output_type": "display_data",
          "text": null,
          "data": {
            "application/vnd.livy.statement-meta+json": {
              "spark_pool": "mysparkpool",
              "session_id": 2,
              "statement_id": 18,
              "state": "finished",
              "livy_statement_state": "available",
              "queued_time": "2022-05-17T11:48:04.5622644Z",
              "session_start_time": null,
              "execution_start_time": "2022-05-17T11:48:04.6652179Z",
              "execution_finish_time": "2022-05-17T11:48:52.2025151Z"
            },
            "text/plain": "StatementMeta(mysparkpool, 2, 18, Finished, Available)"
          },
          "metadata": {}
        },
        {
          "name": "stdout",
          "execution_count": null,
          "output_type": "stream",
          "text": "import org.apache.spark.sql.SqlAnalyticsConnector._\nimport com.microsoft.spark.sqlanalytics.utils.Constants\nsql_pool_name: String = SQLPool01\n",
          "data": null,
          "metadata": null
        }
      ],
      "execution_count": 14
    },
    {
      "cell_type": "code",
      "metadata": {
        "jupyter": {
          "source_hidden": false,
          "outputs_hidden": false
        },
        "nteract": {
          "transient": {
            "deleting": false
          }
        }
      },
      "source": [
        ""
      ],
      "attachments": null,
      "outputs": [],
      "execution_count": null
    },
    {
      "cell_type": "code",
      "metadata": {
        "jupyter": {
          "source_hidden": false,
          "outputs_hidden": false
        },
        "nteract": {
          "transient": {
            "deleting": false
          }
        },
        "microsoft": {
          "language": "scala"
        }
      },
      "source": [
        "%%spark\r\n",
        "// Read  the table we just created in the sql pool as a Spark dataframe\r\n",
        "val spark_read = spark.read.\r\n",
        "    sqlanalytics(s\"$sql_pool_name.dbo.MatadorChildren\")\r\n",
        "spark_read.show(5, truncate = false)"
      ],
      "attachments": null,
      "outputs": [
        {
          "name": null,
          "execution_count": null,
          "output_type": "display_data",
          "text": null,
          "data": {
            "application/vnd.livy.statement-meta+json": {
              "spark_pool": "mysparkpool",
              "session_id": 2,
              "statement_id": 19,
              "state": "finished",
              "livy_statement_state": "available",
              "queued_time": "2022-05-17T11:51:18.6773109Z",
              "session_start_time": null,
              "execution_start_time": "2022-05-17T11:51:18.8117443Z",
              "execution_finish_time": "2022-05-17T11:51:43.0922715Z"
            },
            "text/plain": "StatementMeta(mysparkpool, 2, 19, Finished, Available)"
          },
          "metadata": {}
        },
        {
          "name": "stdout",
          "execution_count": null,
          "output_type": "stream",
          "text": "+---------------+---------+------+-----+\n|lastName       |firstName|gender|grade|\n+---------------+---------+------+-----+\n|Andersen-Skjern|Ellen    |female|5    |\n|Andersen-Skjern|Daniel   |male  |3    |\n|Andersen-Skjern|Erik     |male  |5    |\n|Varnæs         |Ulrik    |male  |5    |\n|Varnæs         |Regitze  |female|3    |\n+---------------+---------+------+-----+\n\nwarning: there was one deprecation warning; for details, enable `:setting -deprecation' or `:replay -deprecation'\nspark_read: org.apache.spark.sql.DataFrame = [lastName: string, firstName: string ... 2 more fields]\n",
          "data": null,
          "metadata": null
        }
      ],
      "execution_count": 15
    },
    {
      "cell_type": "code",
      "metadata": {
        "jupyter": {
          "source_hidden": false,
          "outputs_hidden": false
        },
        "nteract": {
          "transient": {
            "deleting": false
          }
        },
        "microsoft": {
          "language": "scala"
        }
      },
      "source": [
        "%%spark\r\n",
        "// Write the dataframe into your sql pool\r\n",
        "import org.apache.spark.sql.SqlAnalyticsConnector._\r\n",
        "import com.microsoft.spark.sqlanalytics.utils.Constants\r\n",
        "\r\n",
        "dfScala.write.\r\n",
        "    option(Constants.DATA_SOURCE, \"synapsedlcontainer\").\r\n",
        "    option(Constants.FILE_FORMAT, \"parquetfileformat\").\r\n",
        "    sqlanalytics(\"superusersDW.dbo.MatadorChildrenExt\", Constants.EXTERNAL)"
      ],
      "attachments": null,
      "outputs": [],
      "execution_count": null
    },
    {
      "cell_type": "code",
      "metadata": {
        "jupyter": {
          "source_hidden": false,
          "outputs_hidden": false
        },
        "nteract": {
          "transient": {
            "deleting": false
          }
        },
        "microsoft": {
          "language": "sparksql"
        }
      },
      "source": [
        "%%sql\r\n",
        "\r\n",
        "\r\n",
        ""
      ],
      "attachments": null,
      "outputs": [],
      "execution_count": null
    },
    {
      "cell_type": "code",
      "metadata": {
        "jupyter": {
          "source_hidden": false,
          "outputs_hidden": false
        },
        "nteract": {
          "transient": {
            "deleting": false
          }
        }
      },
      "source": [
        ""
      ],
      "attachments": null,
      "outputs": [],
      "execution_count": null
    }
  ],
  "entityState": null,
  "renameOperationDetails": null,
  "targetSparkConfiguration": null
}