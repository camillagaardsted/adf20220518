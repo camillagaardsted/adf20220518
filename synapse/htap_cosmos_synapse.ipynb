{
  "cells": [
    {
      "cell_type": "code",
      "source": [
        "# Read from Cosmos DB analytical store into a Spark DataFrame and display 10 rows from the DataFrame\n",
        "# To select a preferred list of regions in a multi-region Cosmos DB account, add .option(\"spark.cosmos.preferredRegions\", \"<Region1>,<Region2>\")\n",
        "\n",
        "df = spark.read\\\n",
        "    .format(\"cosmos.olap\")\\\n",
        "    .option(\"spark.synapse.linkedService\", \"cosmos_analyticaldb_rasp\")\\\n",
        "    .option(\"spark.cosmos.container\", \"RaspData\")\\\n",
        "    .load()\n",
        "\n",
        "display(df.limit(10))"
      ],
      "outputs": [],
      "execution_count": null,
      "metadata": {}
    },
    {
      "cell_type": "code",
      "source": [
        "dfMat = spark.read\\\r\n",
        "    .format(\"cosmos.oltp\")\\\r\n",
        "    .option(\"spark.synapse.linkedService\", \"cosmosdb_matador\")\\\r\n",
        "    .option(\"spark.cosmos.container\", \"Families\")\\\r\n",
        "    .load()\r\n",
        "\r\n",
        "display(df.limit(10))"
      ],
      "outputs": [],
      "execution_count": null,
      "metadata": {
        "jupyter": {
          "source_hidden": false,
          "outputs_hidden": false
        },
        "nteract": {
          "transient": {
            "deleting": false
          }
        }
      }
    }
  ],
  "metadata": {
    "language_info": {
      "name": "python"
    },
    "kernelspec": {
      "name": "synapse_pyspark",
      "display_name": "python"
    },
    "save_output": true,
    "synapse_widget": {
      "version": "0.1",
      "state": {}
    }
  },
  "nbformat": 4,
  "nbformat_minor": 2
}